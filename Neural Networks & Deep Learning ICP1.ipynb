{
 "cells": [
  {
   "cell_type": "markdown",
   "id": "60cc1dda",
   "metadata": {},
   "source": [
    "## Name: Shrinika Telu\n",
    "## Enroll No: 700741742"
   ]
  },
  {
   "cell_type": "markdown",
   "id": "22997958",
   "metadata": {},
   "source": [
    "# 1.Implement Naïve Bayes method using scikit-learn library\n",
    "\n",
    "Use dataset available with name glass\n",
    "Use train_test_split to create training and testing part\n",
    "Evaluate the model on test part using score and\n",
    "\n",
    "classification_report(y_true, y_pred)\n",
    "\n",
    "\n",
    "# 2. Implement linear SVM method using scikit-learn\n",
    "\n",
    "Use the same dataset above\n",
    "Use train_test_split to create training and testing part\n",
    "Evaluate the model on test part using score and\n",
    "\n",
    "Which algorithm you got better accuracy? Can you justify why?\n",
    "\n",
    "classification_report(y_true, y_pred)"
   ]
  },
  {
   "cell_type": "code",
   "execution_count": 8,
   "id": "ea48f57d",
   "metadata": {},
   "outputs": [],
   "source": [
    "import numpy as np\n",
    "import pandas as pd\n",
    "import urllib\n",
    "\n",
    "import sklearn\n",
    "from sklearn.svm import SVC\n",
    "from sklearn.naive_bayes import BernoulliNB\n",
    "from sklearn.naive_bayes import GaussianNB\n",
    "from sklearn.naive_bayes import MultinomialNB\n",
    "from sklearn.model_selection import train_test_split\n",
    "\n",
    "from sklearn import metrics\n",
    "from sklearn.metrics import accuracy_score\n",
    "\n",
    "import time\n",
    "import warnings\n",
    "warnings.filterwarnings(\"ignore\")"
   ]
  },
  {
   "cell_type": "code",
   "execution_count": 9,
   "id": "bf29efb7",
   "metadata": {},
   "outputs": [
    {
     "name": "stdout",
     "output_type": "stream",
     "text": [
      "(214, 10)\n",
      "Naïve Bayes\n",
      "Total number of points: 43\n",
      "Mislabeled points : 18\n",
      "Accuracy 58.14%\n",
      "\n",
      "\n",
      "              precision    recall  f1-score   support\n",
      "\n",
      "           1       0.54      0.72      0.62        18\n",
      "           2       0.80      0.25      0.38        16\n",
      "           3       0.33      1.00      0.50         2\n",
      "           5       1.00      0.50      0.67         2\n",
      "           6       0.67      1.00      0.80         2\n",
      "           7       0.75      1.00      0.86         3\n",
      "\n",
      "    accuracy                           0.58        43\n",
      "   macro avg       0.68      0.75      0.64        43\n",
      "weighted avg       0.67      0.58      0.55        43\n",
      "\n",
      "Linear SVM accuracy is: 72.09\n",
      "SVM RBF model accuracy is: 37.21\n",
      "\n",
      "\n",
      "              precision    recall  f1-score   support\n",
      "\n",
      "           1       0.00      0.00      0.00        18\n",
      "           2       0.37      1.00      0.54        16\n",
      "           3       0.00      0.00      0.00         2\n",
      "           5       0.00      0.00      0.00         2\n",
      "           6       0.00      0.00      0.00         2\n",
      "           7       0.00      0.00      0.00         3\n",
      "\n",
      "    accuracy                           0.37        43\n",
      "   macro avg       0.06      0.17      0.09        43\n",
      "weighted avg       0.14      0.37      0.20        43\n",
      "\n"
     ]
    }
   ],
   "source": [
    "# read the data\n",
    "data = pd.read_csv('C:/Users/shrin/OneDrive/Desktop/NNDL/NNDL_Code and Data/NNDL_Code and Data/glass.csv')\n",
    "print(data.shape)\n",
    "X_train, X_test = train_test_split(\n",
    "    data, test_size=0.2, random_state=int(time.time()))\n",
    "\n",
    "\n",
    "# features columns\n",
    "features = [\"RI\", \"Na\", \"Mg\", \"Al\", \"Si\", \"K\", \"Ca\", \"Ba\", \"Fe\"]\n",
    "\n",
    "\n",
    "# Naïve Bayes Classifier\n",
    "gauss = GaussianNB()\n",
    "\n",
    "\n",
    "# train the classifier\n",
    "gauss.fit(\n",
    "    X_train[features].values,\n",
    "    X_train[\"Type\"]\n",
    "         )\n",
    "\n",
    "\n",
    "# make predictions\n",
    "y_pred = gauss.predict(X_test[features])\n",
    "print(\"Naïve Bayes\\nTotal number of points: {}\\nMislabeled points : {}\\nAccuracy {:05.2f}%\"\n",
    "      .format(\n",
    "          X_test.shape[0],\n",
    "          (X_test[\"Type\"] != y_pred).sum(),\n",
    "          100 * (1 - (X_test[\"Type\"] != y_pred).sum() / X_test.shape[0])\n",
    "      ))\n",
    "\n",
    "print(\"\\n\")\n",
    "\n",
    "\n",
    "# Naïve Bayes Classifier performance\n",
    "print(metrics.classification_report(X_test[\"Type\"], y_pred))\n",
    "\n",
    "\n",
    "# Linear Support Vector Classification\n",
    "svc_linear = SVC(kernel='linear')\n",
    "\n",
    "\n",
    "# train linear SVM model\n",
    "svc_linear.fit(\n",
    "    X_train[features].values,\n",
    "    X_train[\"Type\"]\n",
    ")\n",
    "Y_pred = svc_linear.predict(X_test[features])\n",
    "\n",
    "\n",
    "\n",
    "# Linear SVM Model performance\n",
    "acc_svc = round(svc_linear.score(\n",
    "    X_test[features].values, X_test[\"Type\"]) * 100, 2)\n",
    "\n",
    "print(\"Linear SVM accuracy is:\", acc_svc)\n",
    "\n",
    "\n",
    "# Support vector classifier (SVC) with the radial basis function kernel (RBF)\n",
    "svc_rbf = SVC(kernel='rbf')\n",
    "svc_rbf.fit(\n",
    "    X_train[features].values,\n",
    "    X_train[\"Type\"]\n",
    ")\n",
    "\n",
    "\n",
    "# model predictions\n",
    "Y_pred = svc_rbf.predict(X_test[features])\n",
    "\n",
    "\n",
    "\n",
    "# SVM RBF Model performance\n",
    "acc_svc = round(svc_rbf.score(\n",
    "    X_test[features].values, X_test[\"Type\"]) * 100, 2)\n",
    "print(\"SVM RBF model accuracy is:\", acc_svc)\n",
    "print(\"\\n\")\n",
    "print(metrics.classification_report(X_test[\"Type\"], Y_pred))"
   ]
  },
  {
   "cell_type": "markdown",
   "id": "bed6ed0b",
   "metadata": {},
   "source": [
    "Firstly, the libraries were imported such as pandas, sklearn.svm, sklearn.naive_bayes.\n",
    "Then, read the provided dataframe from read() function and printed.\n",
    "The dataframe is splitted into train & test.\n",
    "Now feature the coloumns of the dataframe.\n",
    "Implement the naïve bayes classifier & train it.\n",
    "Now, the naïve bayes classifier is predicted and the accuracy is printed.\n",
    "Now, the naïve bayes classifier performance is printed.\n",
    "Implement the linear support vector classification & train it.\n",
    "Now, the performance and the accuracy is printed.\n",
    "\n",
    "\n",
    "Then Support vector classifier (SVC) with the radial basis function kernel (RBF) is trained and predicted.\n",
    "Now, the performance and accuracy is printed.\n",
    "\n",
    "\n",
    "By Comparing both the Naïve Bayes method and the linear SVM method, the accuracy of Naïve Bayes method is more with 58.14%\n",
    "This is because as they both are parameter optimization. Naïve bayes treats them as independent, whereas SVM looks at the interactions between them to a certain degree, as long as you’re using a non-linear kernel.\n"
   ]
  },
  {
   "cell_type": "markdown",
   "id": "e587e140",
   "metadata": {},
   "source": [
    "# 3. Implement Linear Regression using scikit-learn\n",
    "\n",
    "\n",
    "a) Import the given “Salary_Data.csv”\n",
    "\n",
    "b) Split the data in train_test partitions, such that 1/3 of the data is reserved as test subset.\n",
    "\n",
    "c) Train and predict the model.\n",
    "\n",
    "d) Calculate the mean_squared error.\n",
    "\n",
    "e) Visualize both train and test data using scatter plot."
   ]
  },
  {
   "cell_type": "code",
   "execution_count": 10,
   "id": "e705a8b5",
   "metadata": {},
   "outputs": [],
   "source": [
    "#importing the libraries\n",
    "import pandas as pd\n",
    "import numpy as np\n",
    "import matplotlib.pyplot as plt\n",
    "from sklearn.model_selection import train_test_split\n",
    "from sklearn.linear_model import LinearRegression\n",
    "from sklearn import metrics\n",
    "from sklearn import preprocessing\n",
    "from sklearn.metrics import mean_squared_error\n",
    "from sklearn.cluster import KMeans\n",
    "from sklearn.impute import SimpleImputer\n",
    "from sklearn.decomposition import PCA\n",
    "from sklearn.preprocessing import LabelEncoder, StandardScaler\n",
    "import seaborn as sns"
   ]
  },
  {
   "cell_type": "code",
   "execution_count": 12,
   "id": "b4d6e9f9",
   "metadata": {},
   "outputs": [
    {
     "data": {
      "text/html": [
       "<div>\n",
       "<style scoped>\n",
       "    .dataframe tbody tr th:only-of-type {\n",
       "        vertical-align: middle;\n",
       "    }\n",
       "\n",
       "    .dataframe tbody tr th {\n",
       "        vertical-align: top;\n",
       "    }\n",
       "\n",
       "    .dataframe thead th {\n",
       "        text-align: right;\n",
       "    }\n",
       "</style>\n",
       "<table border=\"1\" class=\"dataframe\">\n",
       "  <thead>\n",
       "    <tr style=\"text-align: right;\">\n",
       "      <th></th>\n",
       "      <th>YearsExperience</th>\n",
       "      <th>Salary</th>\n",
       "    </tr>\n",
       "  </thead>\n",
       "  <tbody>\n",
       "    <tr>\n",
       "      <th>0</th>\n",
       "      <td>1.1</td>\n",
       "      <td>39343.0</td>\n",
       "    </tr>\n",
       "    <tr>\n",
       "      <th>1</th>\n",
       "      <td>1.3</td>\n",
       "      <td>46205.0</td>\n",
       "    </tr>\n",
       "    <tr>\n",
       "      <th>2</th>\n",
       "      <td>1.5</td>\n",
       "      <td>37731.0</td>\n",
       "    </tr>\n",
       "    <tr>\n",
       "      <th>3</th>\n",
       "      <td>2.0</td>\n",
       "      <td>43525.0</td>\n",
       "    </tr>\n",
       "    <tr>\n",
       "      <th>4</th>\n",
       "      <td>2.2</td>\n",
       "      <td>39891.0</td>\n",
       "    </tr>\n",
       "  </tbody>\n",
       "</table>\n",
       "</div>"
      ],
      "text/plain": [
       "   YearsExperience   Salary\n",
       "0              1.1  39343.0\n",
       "1              1.3  46205.0\n",
       "2              1.5  37731.0\n",
       "3              2.0  43525.0\n",
       "4              2.2  39891.0"
      ]
     },
     "execution_count": 12,
     "metadata": {},
     "output_type": "execute_result"
    }
   ],
   "source": [
    "#reading the Salary_Data dataset\n",
    "Salary_df=pd.read_csv(\"C:/Users/shrin/OneDrive/Desktop/NNDL/NNDL_Code and Data/NNDL_Code and Data/Salary_Data.csv\")\n",
    "Salary_df.head()"
   ]
  },
  {
   "cell_type": "code",
   "execution_count": 14,
   "id": "6bd685ef",
   "metadata": {},
   "outputs": [],
   "source": [
    "#Splitting the data in Training and Testing side on X and Y\n",
    "X = Salary_df.iloc[:, :-1].values\n",
    "Y = Salary_df.iloc[:, 1].values\n",
    "X_Training, X_Testing, Y_Training, Y_Testing = train_test_split(X,Y, test_size=1/3,random_state = 0)\n",
    "regressor = LinearRegression()\n",
    "regressor.fit(X_Training, Y_Training)\n",
    "Y_Predict = regressor.predict(X_Testing)"
   ]
  },
  {
   "cell_type": "code",
   "execution_count": 15,
   "id": "c14df2cc",
   "metadata": {},
   "outputs": [
    {
     "data": {
      "image/png": "[encoded data removed]",
      "text/plain": [
       "<Figure size 640x480 with 1 Axes>"
      ]
     },
     "metadata": {},
     "output_type": "display_data"
    }
   ],
   "source": [
    "#Visualising Training data and Plotting\n",
    "plt.title('Training data')\n",
    "plt.xlabel('Years of Experience')\n",
    "plt.ylabel('Salary')\n",
    "plt.scatter(X_Training, Y_Training)\n",
    "plt.show()"
   ]
  },
  {
   "cell_type": "code",
   "execution_count": 16,
   "id": "9e4f4a99",
   "metadata": {},
   "outputs": [
    {
     "data": {
      "image/png": "[encoded data removed]",
      "text/plain": [
       "<Figure size 640x480 with 1 Axes>"
      ]
     },
     "metadata": {},
     "output_type": "display_data"
    }
   ],
   "source": [
    "##Visualising Testing data and Plotting\n",
    "plt.title('Testing data')\n",
    "plt.xlabel('Years of Experience')\n",
    "plt.ylabel('Salary')\n",
    "plt.scatter(X_Testing, Y_Testing)\n",
    "plt.show()"
   ]
  }
 ],
 "metadata": {
  "kernelspec": {
   "display_name": "Python 3 (ipykernel)",
   "language": "python",
   "name": "python3"
  },
  "language_info": {
   "codemirror_mode": {
    "name": "ipython",
    "version": 3
   },
   "file_extension": ".py",
   "mimetype": "text/x-python",
   "name": "python",
   "nbconvert_exporter": "python",
   "pygments_lexer": "ipython3",
   "version": "3.9.13"
  }
 },
 "nbformat": 4,
 "nbformat_minor": 5
}
